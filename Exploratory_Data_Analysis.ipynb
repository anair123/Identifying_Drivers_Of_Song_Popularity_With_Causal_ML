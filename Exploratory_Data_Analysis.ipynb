{
 "cells": [
  {
   "cell_type": "markdown",
   "id": "740c6682",
   "metadata": {},
   "source": [
    "### Import libraries"
   ]
  },
  {
   "cell_type": "code",
   "execution_count": 18,
   "id": "c8a5b781",
   "metadata": {},
   "outputs": [],
   "source": [
    "import pandas as pd \n",
    "import numpy as np\n",
    "import ast\n",
    "from collections import Counter\n",
    "import matplotlib.pyplot as plt\n",
    "import seaborn as sns\n",
    "from statsmodels.stats.outliers_influence import variance_inflation_factor\n",
    "from statsmodels.tools.tools import add_constant\n",
    "import datetime as dt\n",
    "import warnings\n",
    "\n",
    "warnings.filterwarnings(action='ignore')"
   ]
  },
  {
   "cell_type": "markdown",
   "id": "d2470df5",
   "metadata": {},
   "source": [
    "### Load datasets"
   ]
  },
  {
   "cell_type": "code",
   "execution_count": 19,
   "id": "cfedce2c",
   "metadata": {},
   "outputs": [],
   "source": [
    "# load tracks and filter out songs released before 2022\n",
    "tracks = pd.read_excel('Data/tracks.xlsx')\n",
    "tracks = tracks[tracks['release_date']>='2022-01-01'].reset_index(drop=True)\n",
    "\n",
    "# load audio features and artist_info\n",
    "audio_features = pd.read_excel('Data/audio_features.xlsx')\n",
    "artist_info = pd.read_excel('Data/artist_info.xlsx')"
   ]
  },
  {
   "cell_type": "code",
   "execution_count": 20,
   "id": "14d8d0ad",
   "metadata": {},
   "outputs": [
    {
     "data": {
      "text/html": [
       "<div>\n",
       "<style scoped>\n",
       "    .dataframe tbody tr th:only-of-type {\n",
       "        vertical-align: middle;\n",
       "    }\n",
       "\n",
       "    .dataframe tbody tr th {\n",
       "        vertical-align: top;\n",
       "    }\n",
       "\n",
       "    .dataframe thead th {\n",
       "        text-align: right;\n",
       "    }\n",
       "</style>\n",
       "<table border=\"1\" class=\"dataframe\">\n",
       "  <thead>\n",
       "    <tr style=\"text-align: right;\">\n",
       "      <th></th>\n",
       "      <th>track_id</th>\n",
       "      <th>track_name</th>\n",
       "      <th>artist_id</th>\n",
       "      <th>artist_name</th>\n",
       "      <th>explicit</th>\n",
       "      <th>release_date</th>\n",
       "      <th>popularity</th>\n",
       "    </tr>\n",
       "  </thead>\n",
       "  <tbody>\n",
       "    <tr>\n",
       "      <th>0</th>\n",
       "      <td>1bDbXMyjaUIooNwFE9wn0N</td>\n",
       "      <td>Rich Flex</td>\n",
       "      <td>3TVXtAsR1Inumwj472S9r4</td>\n",
       "      <td>Drake</td>\n",
       "      <td>1</td>\n",
       "      <td>2022-11-04</td>\n",
       "      <td>96</td>\n",
       "    </tr>\n",
       "    <tr>\n",
       "      <th>1</th>\n",
       "      <td>3F5CgOj3wFlRv51JsHbxhe</td>\n",
       "      <td>Jimmy Cooks (feat. 21 Savage)</td>\n",
       "      <td>3TVXtAsR1Inumwj472S9r4</td>\n",
       "      <td>Drake</td>\n",
       "      <td>1</td>\n",
       "      <td>2022-06-17</td>\n",
       "      <td>90</td>\n",
       "    </tr>\n",
       "    <tr>\n",
       "      <th>2</th>\n",
       "      <td>2KLwPaRDOB87XOYAT2fgxh</td>\n",
       "      <td>Pussy &amp; Millions (feat. Travis Scott)</td>\n",
       "      <td>3TVXtAsR1Inumwj472S9r4</td>\n",
       "      <td>Drake</td>\n",
       "      <td>1</td>\n",
       "      <td>2022-11-04</td>\n",
       "      <td>89</td>\n",
       "    </tr>\n",
       "    <tr>\n",
       "      <th>3</th>\n",
       "      <td>46s57QULU02Voy0Kup6UEb</td>\n",
       "      <td>Major Distribution</td>\n",
       "      <td>3TVXtAsR1Inumwj472S9r4</td>\n",
       "      <td>Drake</td>\n",
       "      <td>1</td>\n",
       "      <td>2022-11-04</td>\n",
       "      <td>88</td>\n",
       "    </tr>\n",
       "    <tr>\n",
       "      <th>4</th>\n",
       "      <td>34tz0eDhGuFErIuW3q4mPX</td>\n",
       "      <td>On BS</td>\n",
       "      <td>3TVXtAsR1Inumwj472S9r4</td>\n",
       "      <td>Drake</td>\n",
       "      <td>1</td>\n",
       "      <td>2022-11-04</td>\n",
       "      <td>88</td>\n",
       "    </tr>\n",
       "  </tbody>\n",
       "</table>\n",
       "</div>"
      ],
      "text/plain": [
       "                 track_id                             track_name  \\\n",
       "0  1bDbXMyjaUIooNwFE9wn0N                              Rich Flex   \n",
       "1  3F5CgOj3wFlRv51JsHbxhe          Jimmy Cooks (feat. 21 Savage)   \n",
       "2  2KLwPaRDOB87XOYAT2fgxh  Pussy & Millions (feat. Travis Scott)   \n",
       "3  46s57QULU02Voy0Kup6UEb                     Major Distribution   \n",
       "4  34tz0eDhGuFErIuW3q4mPX                                  On BS   \n",
       "\n",
       "                artist_id artist_name  explicit release_date  popularity  \n",
       "0  3TVXtAsR1Inumwj472S9r4       Drake         1   2022-11-04          96  \n",
       "1  3TVXtAsR1Inumwj472S9r4       Drake         1   2022-06-17          90  \n",
       "2  3TVXtAsR1Inumwj472S9r4       Drake         1   2022-11-04          89  \n",
       "3  3TVXtAsR1Inumwj472S9r4       Drake         1   2022-11-04          88  \n",
       "4  3TVXtAsR1Inumwj472S9r4       Drake         1   2022-11-04          88  "
      ]
     },
     "execution_count": 20,
     "metadata": {},
     "output_type": "execute_result"
    }
   ],
   "source": [
    "# preview of tracks\n",
    "tracks.head()"
   ]
  },
  {
   "cell_type": "code",
   "execution_count": 21,
   "id": "dc2b1a8a",
   "metadata": {},
   "outputs": [
    {
     "data": {
      "text/plain": [
       "track_id        0\n",
       "track_name      0\n",
       "artist_id       0\n",
       "artist_name     0\n",
       "explicit        0\n",
       "release_date    0\n",
       "popularity      0\n",
       "dtype: int64"
      ]
     },
     "execution_count": 21,
     "metadata": {},
     "output_type": "execute_result"
    }
   ],
   "source": [
    "# number of missing values in each feature\n",
    "tracks.isnull().sum()"
   ]
  },
  {
   "cell_type": "code",
   "execution_count": 22,
   "id": "56209924",
   "metadata": {},
   "outputs": [
    {
     "data": {
      "text/html": [
       "<div>\n",
       "<style scoped>\n",
       "    .dataframe tbody tr th:only-of-type {\n",
       "        vertical-align: middle;\n",
       "    }\n",
       "\n",
       "    .dataframe tbody tr th {\n",
       "        vertical-align: top;\n",
       "    }\n",
       "\n",
       "    .dataframe thead th {\n",
       "        text-align: right;\n",
       "    }\n",
       "</style>\n",
       "<table border=\"1\" class=\"dataframe\">\n",
       "  <thead>\n",
       "    <tr style=\"text-align: right;\">\n",
       "      <th></th>\n",
       "      <th>track_id</th>\n",
       "      <th>audio_features</th>\n",
       "    </tr>\n",
       "  </thead>\n",
       "  <tbody>\n",
       "    <tr>\n",
       "      <th>0</th>\n",
       "      <td>1bDbXMyjaUIooNwFE9wn0N</td>\n",
       "      <td>{'danceability': 0.561, 'energy': 0.52, 'key':...</td>\n",
       "    </tr>\n",
       "    <tr>\n",
       "      <th>1</th>\n",
       "      <td>3F5CgOj3wFlRv51JsHbxhe</td>\n",
       "      <td>{'danceability': 0.529, 'energy': 0.673, 'key'...</td>\n",
       "    </tr>\n",
       "    <tr>\n",
       "      <th>2</th>\n",
       "      <td>2KLwPaRDOB87XOYAT2fgxh</td>\n",
       "      <td>{'danceability': 0.749, 'energy': 0.63, 'key':...</td>\n",
       "    </tr>\n",
       "    <tr>\n",
       "      <th>3</th>\n",
       "      <td>46s57QULU02Voy0Kup6UEb</td>\n",
       "      <td>{'danceability': 0.908, 'energy': 0.546, 'key'...</td>\n",
       "    </tr>\n",
       "    <tr>\n",
       "      <th>4</th>\n",
       "      <td>34tz0eDhGuFErIuW3q4mPX</td>\n",
       "      <td>{'danceability': 0.841, 'energy': 0.358, 'key'...</td>\n",
       "    </tr>\n",
       "  </tbody>\n",
       "</table>\n",
       "</div>"
      ],
      "text/plain": [
       "                 track_id                                     audio_features\n",
       "0  1bDbXMyjaUIooNwFE9wn0N  {'danceability': 0.561, 'energy': 0.52, 'key':...\n",
       "1  3F5CgOj3wFlRv51JsHbxhe  {'danceability': 0.529, 'energy': 0.673, 'key'...\n",
       "2  2KLwPaRDOB87XOYAT2fgxh  {'danceability': 0.749, 'energy': 0.63, 'key':...\n",
       "3  46s57QULU02Voy0Kup6UEb  {'danceability': 0.908, 'energy': 0.546, 'key'...\n",
       "4  34tz0eDhGuFErIuW3q4mPX  {'danceability': 0.841, 'energy': 0.358, 'key'..."
      ]
     },
     "execution_count": 22,
     "metadata": {},
     "output_type": "execute_result"
    }
   ],
   "source": [
    "# preview of audio features \n",
    "audio_features.head()"
   ]
  },
  {
   "cell_type": "code",
   "execution_count": 23,
   "id": "04271258",
   "metadata": {},
   "outputs": [
    {
     "data": {
      "text/plain": [
       "track_id            0\n",
       "audio_features    438\n",
       "dtype: int64"
      ]
     },
     "execution_count": 23,
     "metadata": {},
     "output_type": "execute_result"
    }
   ],
   "source": [
    "# number of missing values in each feature\n",
    "audio_features.isnull().sum()"
   ]
  },
  {
   "cell_type": "code",
   "execution_count": 24,
   "id": "56cea724",
   "metadata": {},
   "outputs": [
    {
     "data": {
      "text/html": [
       "<div>\n",
       "<style scoped>\n",
       "    .dataframe tbody tr th:only-of-type {\n",
       "        vertical-align: middle;\n",
       "    }\n",
       "\n",
       "    .dataframe tbody tr th {\n",
       "        vertical-align: top;\n",
       "    }\n",
       "\n",
       "    .dataframe thead th {\n",
       "        text-align: right;\n",
       "    }\n",
       "</style>\n",
       "<table border=\"1\" class=\"dataframe\">\n",
       "  <thead>\n",
       "    <tr style=\"text-align: right;\">\n",
       "      <th></th>\n",
       "      <th>artist</th>\n",
       "      <th>artist_info</th>\n",
       "    </tr>\n",
       "  </thead>\n",
       "  <tbody>\n",
       "    <tr>\n",
       "      <th>0</th>\n",
       "      <td>Drake</td>\n",
       "      <td>{'external_urls': {'spotify': 'https://open.sp...</td>\n",
       "    </tr>\n",
       "    <tr>\n",
       "      <th>1</th>\n",
       "      <td>Bad Bunny</td>\n",
       "      <td>{'external_urls': {'spotify': 'https://open.sp...</td>\n",
       "    </tr>\n",
       "    <tr>\n",
       "      <th>2</th>\n",
       "      <td>Ed Sheeran</td>\n",
       "      <td>{'external_urls': {'spotify': 'https://open.sp...</td>\n",
       "    </tr>\n",
       "    <tr>\n",
       "      <th>3</th>\n",
       "      <td>Taylor Swift</td>\n",
       "      <td>{'external_urls': {'spotify': 'https://open.sp...</td>\n",
       "    </tr>\n",
       "    <tr>\n",
       "      <th>4</th>\n",
       "      <td>The Weeknd</td>\n",
       "      <td>{'external_urls': {'spotify': 'https://open.sp...</td>\n",
       "    </tr>\n",
       "  </tbody>\n",
       "</table>\n",
       "</div>"
      ],
      "text/plain": [
       "         artist                                        artist_info\n",
       "0         Drake  {'external_urls': {'spotify': 'https://open.sp...\n",
       "1     Bad Bunny  {'external_urls': {'spotify': 'https://open.sp...\n",
       "2    Ed Sheeran  {'external_urls': {'spotify': 'https://open.sp...\n",
       "3  Taylor Swift  {'external_urls': {'spotify': 'https://open.sp...\n",
       "4    The Weeknd  {'external_urls': {'spotify': 'https://open.sp..."
      ]
     },
     "execution_count": 24,
     "metadata": {},
     "output_type": "execute_result"
    }
   ],
   "source": [
    "artist_info.head()"
   ]
  },
  {
   "cell_type": "code",
   "execution_count": 25,
   "id": "ec9a7028",
   "metadata": {},
   "outputs": [
    {
     "data": {
      "text/plain": [
       "artist         0\n",
       "artist_info    0\n",
       "dtype: int64"
      ]
     },
     "execution_count": 25,
     "metadata": {},
     "output_type": "execute_result"
    }
   ],
   "source": [
    "# number of missing values in each feature\n",
    "\n",
    "artist_info.isnull().sum()"
   ]
  },
  {
   "cell_type": "markdown",
   "id": "78c26a13",
   "metadata": {},
   "source": [
    "### Preprocessing"
   ]
  },
  {
   "cell_type": "markdown",
   "id": "149f72eb",
   "metadata": {},
   "source": [
    "#### Extract audio features"
   ]
  },
  {
   "cell_type": "code",
   "execution_count": 26,
   "id": "bcff4a05",
   "metadata": {},
   "outputs": [],
   "source": [
    "# remove tracks without audio features\n",
    "audio_features = audio_features.dropna()"
   ]
  },
  {
   "cell_type": "code",
   "execution_count": 27,
   "id": "6a739c0f",
   "metadata": {},
   "outputs": [],
   "source": [
    "# extract relevant audio feature metrics from the dictionary and store them in separate columns\n",
    "audio_features['audio_features_dict'] = audio_features['audio_features'].apply(lambda x: ast.literal_eval(x))\n",
    "audio_features['danceability'] = audio_features['audio_features_dict'].apply(lambda x: x['danceability'])\n",
    "audio_features['energy'] = audio_features['audio_features_dict'].apply(lambda x: x['energy'])\n",
    "audio_features['key'] = audio_features['audio_features_dict'].apply(lambda x: x['key'])\n",
    "audio_features['loudness'] = audio_features['audio_features_dict'].apply(lambda x: x['loudness'])\n",
    "audio_features['mode'] = audio_features['audio_features_dict'].apply(lambda x: x['mode'])\n",
    "audio_features['speechiness'] = audio_features['audio_features_dict'].apply(lambda x: x['speechiness'])\n",
    "audio_features['acousticness'] = audio_features['audio_features_dict'].apply(lambda x: x['acousticness'])\n",
    "audio_features['instrumentalness'] = audio_features['audio_features_dict'].apply(lambda x: x['instrumentalness'])\n",
    "audio_features['liveness'] = audio_features['audio_features_dict'].apply(lambda x: x['liveness'])\n",
    "audio_features['valence'] = audio_features['audio_features_dict'].apply(lambda x: x['valence'])\n",
    "audio_features['duration_ms'] = audio_features['audio_features_dict'].apply(lambda x: x['duration_ms'])\n",
    "audio_features['time_signature'] = audio_features['audio_features_dict'].apply(lambda x: x['time_signature'])\n",
    "audio_features = audio_features.drop(['audio_features', 'audio_features_dict'], axis=1)"
   ]
  },
  {
   "cell_type": "markdown",
   "id": "cdda363d",
   "metadata": {},
   "source": [
    "#### Extract artist info "
   ]
  },
  {
   "cell_type": "code",
   "execution_count": 28,
   "id": "f8e4ebf8",
   "metadata": {},
   "outputs": [],
   "source": [
    "# extract relevant artist info metrics from the dictionary and store them in separate columns\n",
    "\n",
    "artist_info['artist_info_dict'] = artist_info['artist_info'].apply(lambda x: ast.literal_eval(x))\n",
    "artist_info['followers'] = artist_info['artist_info_dict'].apply(lambda x: x['followers']['total'])\n",
    "artist_info['genres'] = artist_info['artist_info_dict'].apply(lambda x: x['genres'])\n",
    "artist_info = artist_info.drop(['artist_info', 'artist_info_dict'], axis=1)"
   ]
  },
  {
   "cell_type": "markdown",
   "id": "dab6d999",
   "metadata": {},
   "source": [
    "### Join datasets"
   ]
  },
  {
   "cell_type": "code",
   "execution_count": 29,
   "id": "09f55d81",
   "metadata": {},
   "outputs": [
    {
     "data": {
      "text/html": [
       "<div>\n",
       "<style scoped>\n",
       "    .dataframe tbody tr th:only-of-type {\n",
       "        vertical-align: middle;\n",
       "    }\n",
       "\n",
       "    .dataframe tbody tr th {\n",
       "        vertical-align: top;\n",
       "    }\n",
       "\n",
       "    .dataframe thead th {\n",
       "        text-align: right;\n",
       "    }\n",
       "</style>\n",
       "<table border=\"1\" class=\"dataframe\">\n",
       "  <thead>\n",
       "    <tr style=\"text-align: right;\">\n",
       "      <th></th>\n",
       "      <th>track_id</th>\n",
       "      <th>track_name</th>\n",
       "      <th>artist_id</th>\n",
       "      <th>artist_name</th>\n",
       "      <th>explicit</th>\n",
       "      <th>release_date</th>\n",
       "      <th>popularity</th>\n",
       "      <th>danceability</th>\n",
       "      <th>energy</th>\n",
       "      <th>key</th>\n",
       "      <th>...</th>\n",
       "      <th>speechiness</th>\n",
       "      <th>acousticness</th>\n",
       "      <th>instrumentalness</th>\n",
       "      <th>liveness</th>\n",
       "      <th>valence</th>\n",
       "      <th>duration_ms</th>\n",
       "      <th>time_signature</th>\n",
       "      <th>artist</th>\n",
       "      <th>followers</th>\n",
       "      <th>genres</th>\n",
       "    </tr>\n",
       "  </thead>\n",
       "  <tbody>\n",
       "    <tr>\n",
       "      <th>0</th>\n",
       "      <td>1bDbXMyjaUIooNwFE9wn0N</td>\n",
       "      <td>Rich Flex</td>\n",
       "      <td>3TVXtAsR1Inumwj472S9r4</td>\n",
       "      <td>Drake</td>\n",
       "      <td>1</td>\n",
       "      <td>2022-11-04</td>\n",
       "      <td>96</td>\n",
       "      <td>0.561</td>\n",
       "      <td>0.520</td>\n",
       "      <td>11.0</td>\n",
       "      <td>...</td>\n",
       "      <td>0.244</td>\n",
       "      <td>0.050300</td>\n",
       "      <td>0.000002</td>\n",
       "      <td>0.3550</td>\n",
       "      <td>0.424</td>\n",
       "      <td>239360.0</td>\n",
       "      <td>3.0</td>\n",
       "      <td>Drake</td>\n",
       "      <td>70260570</td>\n",
       "      <td>[canadian hip hop, canadian pop, hip hop, rap,...</td>\n",
       "    </tr>\n",
       "    <tr>\n",
       "      <th>1</th>\n",
       "      <td>3F5CgOj3wFlRv51JsHbxhe</td>\n",
       "      <td>Jimmy Cooks (feat. 21 Savage)</td>\n",
       "      <td>3TVXtAsR1Inumwj472S9r4</td>\n",
       "      <td>Drake</td>\n",
       "      <td>1</td>\n",
       "      <td>2022-06-17</td>\n",
       "      <td>90</td>\n",
       "      <td>0.529</td>\n",
       "      <td>0.673</td>\n",
       "      <td>0.0</td>\n",
       "      <td>...</td>\n",
       "      <td>0.175</td>\n",
       "      <td>0.000307</td>\n",
       "      <td>0.000002</td>\n",
       "      <td>0.0930</td>\n",
       "      <td>0.366</td>\n",
       "      <td>218365.0</td>\n",
       "      <td>4.0</td>\n",
       "      <td>Drake</td>\n",
       "      <td>70260570</td>\n",
       "      <td>[canadian hip hop, canadian pop, hip hop, rap,...</td>\n",
       "    </tr>\n",
       "    <tr>\n",
       "      <th>2</th>\n",
       "      <td>2KLwPaRDOB87XOYAT2fgxh</td>\n",
       "      <td>Pussy &amp; Millions (feat. Travis Scott)</td>\n",
       "      <td>3TVXtAsR1Inumwj472S9r4</td>\n",
       "      <td>Drake</td>\n",
       "      <td>1</td>\n",
       "      <td>2022-11-04</td>\n",
       "      <td>89</td>\n",
       "      <td>0.749</td>\n",
       "      <td>0.630</td>\n",
       "      <td>4.0</td>\n",
       "      <td>...</td>\n",
       "      <td>0.116</td>\n",
       "      <td>0.062300</td>\n",
       "      <td>0.000000</td>\n",
       "      <td>0.3530</td>\n",
       "      <td>0.445</td>\n",
       "      <td>242027.0</td>\n",
       "      <td>4.0</td>\n",
       "      <td>Drake</td>\n",
       "      <td>70260570</td>\n",
       "      <td>[canadian hip hop, canadian pop, hip hop, rap,...</td>\n",
       "    </tr>\n",
       "    <tr>\n",
       "      <th>3</th>\n",
       "      <td>46s57QULU02Voy0Kup6UEb</td>\n",
       "      <td>Major Distribution</td>\n",
       "      <td>3TVXtAsR1Inumwj472S9r4</td>\n",
       "      <td>Drake</td>\n",
       "      <td>1</td>\n",
       "      <td>2022-11-04</td>\n",
       "      <td>88</td>\n",
       "      <td>0.908</td>\n",
       "      <td>0.546</td>\n",
       "      <td>8.0</td>\n",
       "      <td>...</td>\n",
       "      <td>0.323</td>\n",
       "      <td>0.012700</td>\n",
       "      <td>0.000000</td>\n",
       "      <td>0.0707</td>\n",
       "      <td>0.225</td>\n",
       "      <td>170502.0</td>\n",
       "      <td>4.0</td>\n",
       "      <td>Drake</td>\n",
       "      <td>70260570</td>\n",
       "      <td>[canadian hip hop, canadian pop, hip hop, rap,...</td>\n",
       "    </tr>\n",
       "    <tr>\n",
       "      <th>4</th>\n",
       "      <td>34tz0eDhGuFErIuW3q4mPX</td>\n",
       "      <td>On BS</td>\n",
       "      <td>3TVXtAsR1Inumwj472S9r4</td>\n",
       "      <td>Drake</td>\n",
       "      <td>1</td>\n",
       "      <td>2022-11-04</td>\n",
       "      <td>88</td>\n",
       "      <td>0.841</td>\n",
       "      <td>0.358</td>\n",
       "      <td>9.0</td>\n",
       "      <td>...</td>\n",
       "      <td>0.591</td>\n",
       "      <td>0.020100</td>\n",
       "      <td>0.000000</td>\n",
       "      <td>0.3900</td>\n",
       "      <td>0.329</td>\n",
       "      <td>261544.0</td>\n",
       "      <td>4.0</td>\n",
       "      <td>Drake</td>\n",
       "      <td>70260570</td>\n",
       "      <td>[canadian hip hop, canadian pop, hip hop, rap,...</td>\n",
       "    </tr>\n",
       "  </tbody>\n",
       "</table>\n",
       "<p>5 rows × 22 columns</p>\n",
       "</div>"
      ],
      "text/plain": [
       "                 track_id                             track_name  \\\n",
       "0  1bDbXMyjaUIooNwFE9wn0N                              Rich Flex   \n",
       "1  3F5CgOj3wFlRv51JsHbxhe          Jimmy Cooks (feat. 21 Savage)   \n",
       "2  2KLwPaRDOB87XOYAT2fgxh  Pussy & Millions (feat. Travis Scott)   \n",
       "3  46s57QULU02Voy0Kup6UEb                     Major Distribution   \n",
       "4  34tz0eDhGuFErIuW3q4mPX                                  On BS   \n",
       "\n",
       "                artist_id artist_name  explicit release_date  popularity  \\\n",
       "0  3TVXtAsR1Inumwj472S9r4       Drake         1   2022-11-04          96   \n",
       "1  3TVXtAsR1Inumwj472S9r4       Drake         1   2022-06-17          90   \n",
       "2  3TVXtAsR1Inumwj472S9r4       Drake         1   2022-11-04          89   \n",
       "3  3TVXtAsR1Inumwj472S9r4       Drake         1   2022-11-04          88   \n",
       "4  3TVXtAsR1Inumwj472S9r4       Drake         1   2022-11-04          88   \n",
       "\n",
       "   danceability  energy   key  ...  speechiness  acousticness  \\\n",
       "0         0.561   0.520  11.0  ...        0.244      0.050300   \n",
       "1         0.529   0.673   0.0  ...        0.175      0.000307   \n",
       "2         0.749   0.630   4.0  ...        0.116      0.062300   \n",
       "3         0.908   0.546   8.0  ...        0.323      0.012700   \n",
       "4         0.841   0.358   9.0  ...        0.591      0.020100   \n",
       "\n",
       "   instrumentalness  liveness  valence  duration_ms  time_signature  artist  \\\n",
       "0          0.000002    0.3550    0.424     239360.0             3.0   Drake   \n",
       "1          0.000002    0.0930    0.366     218365.0             4.0   Drake   \n",
       "2          0.000000    0.3530    0.445     242027.0             4.0   Drake   \n",
       "3          0.000000    0.0707    0.225     170502.0             4.0   Drake   \n",
       "4          0.000000    0.3900    0.329     261544.0             4.0   Drake   \n",
       "\n",
       "   followers                                             genres  \n",
       "0   70260570  [canadian hip hop, canadian pop, hip hop, rap,...  \n",
       "1   70260570  [canadian hip hop, canadian pop, hip hop, rap,...  \n",
       "2   70260570  [canadian hip hop, canadian pop, hip hop, rap,...  \n",
       "3   70260570  [canadian hip hop, canadian pop, hip hop, rap,...  \n",
       "4   70260570  [canadian hip hop, canadian pop, hip hop, rap,...  \n",
       "\n",
       "[5 rows x 22 columns]"
      ]
     },
     "execution_count": 29,
     "metadata": {},
     "output_type": "execute_result"
    }
   ],
   "source": [
    "# join three datasets\n",
    "df = tracks.merge(audio_features, how='left', on='track_id')\n",
    "df = df.merge(artist_info, how='left', left_on='artist_name', right_on='artist')\n",
    "df.head()"
   ]
  },
  {
   "cell_type": "code",
   "execution_count": 30,
   "id": "93c21cae",
   "metadata": {},
   "outputs": [
    {
     "data": {
      "text/plain": [
       "(101700, 22)"
      ]
     },
     "execution_count": 30,
     "metadata": {},
     "output_type": "execute_result"
    }
   ],
   "source": [
    "df.shape"
   ]
  },
  {
   "cell_type": "markdown",
   "id": "8e0e0915",
   "metadata": {},
   "source": [
    "### Exploratory Data Analysis"
   ]
  },
  {
   "cell_type": "code",
   "execution_count": 32,
   "id": "a0e49310",
   "metadata": {},
   "outputs": [
    {
     "name": "stdout",
     "output_type": "stream",
     "text": [
      "<class 'pandas.core.frame.DataFrame'>\n",
      "Int64Index: 101700 entries, 0 to 101699\n",
      "Data columns (total 22 columns):\n",
      " #   Column            Non-Null Count   Dtype  \n",
      "---  ------            --------------   -----  \n",
      " 0   track_id          101700 non-null  object \n",
      " 1   track_name        101700 non-null  object \n",
      " 2   artist_id         101700 non-null  object \n",
      " 3   artist_name       101700 non-null  object \n",
      " 4   explicit          101700 non-null  int64  \n",
      " 5   release_date      101700 non-null  object \n",
      " 6   popularity        101700 non-null  int64  \n",
      " 7   danceability      101541 non-null  float64\n",
      " 8   energy            101541 non-null  float64\n",
      " 9   key               101541 non-null  float64\n",
      " 10  loudness          101541 non-null  float64\n",
      " 11  mode              101541 non-null  float64\n",
      " 12  speechiness       101541 non-null  float64\n",
      " 13  acousticness      101541 non-null  float64\n",
      " 14  instrumentalness  101541 non-null  float64\n",
      " 15  liveness          101541 non-null  float64\n",
      " 16  valence           101541 non-null  float64\n",
      " 17  duration_ms       101541 non-null  float64\n",
      " 18  time_signature    101541 non-null  float64\n",
      " 19  artist            101700 non-null  object \n",
      " 20  followers         101700 non-null  int64  \n",
      " 21  genres            101700 non-null  object \n",
      "dtypes: float64(12), int64(3), object(7)\n",
      "memory usage: 17.8+ MB\n"
     ]
    }
   ],
   "source": [
    "# data frame columns\n",
    "df.info()"
   ]
  },
  {
   "cell_type": "code",
   "execution_count": 17,
   "id": "c5a03883",
   "metadata": {},
   "outputs": [
    {
     "data": {
      "text/html": [
       "<div>\n",
       "<style scoped>\n",
       "    .dataframe tbody tr th:only-of-type {\n",
       "        vertical-align: middle;\n",
       "    }\n",
       "\n",
       "    .dataframe tbody tr th {\n",
       "        vertical-align: top;\n",
       "    }\n",
       "\n",
       "    .dataframe thead th {\n",
       "        text-align: right;\n",
       "    }\n",
       "</style>\n",
       "<table border=\"1\" class=\"dataframe\">\n",
       "  <thead>\n",
       "    <tr style=\"text-align: right;\">\n",
       "      <th></th>\n",
       "      <th>feature</th>\n",
       "      <th>num_missing</th>\n",
       "    </tr>\n",
       "  </thead>\n",
       "  <tbody>\n",
       "    <tr>\n",
       "      <th>7</th>\n",
       "      <td>danceability</td>\n",
       "      <td>159</td>\n",
       "    </tr>\n",
       "    <tr>\n",
       "      <th>8</th>\n",
       "      <td>energy</td>\n",
       "      <td>159</td>\n",
       "    </tr>\n",
       "    <tr>\n",
       "      <th>9</th>\n",
       "      <td>key</td>\n",
       "      <td>159</td>\n",
       "    </tr>\n",
       "    <tr>\n",
       "      <th>10</th>\n",
       "      <td>loudness</td>\n",
       "      <td>159</td>\n",
       "    </tr>\n",
       "    <tr>\n",
       "      <th>11</th>\n",
       "      <td>mode</td>\n",
       "      <td>159</td>\n",
       "    </tr>\n",
       "    <tr>\n",
       "      <th>12</th>\n",
       "      <td>speechiness</td>\n",
       "      <td>159</td>\n",
       "    </tr>\n",
       "    <tr>\n",
       "      <th>13</th>\n",
       "      <td>acousticness</td>\n",
       "      <td>159</td>\n",
       "    </tr>\n",
       "    <tr>\n",
       "      <th>14</th>\n",
       "      <td>instrumentalness</td>\n",
       "      <td>159</td>\n",
       "    </tr>\n",
       "    <tr>\n",
       "      <th>15</th>\n",
       "      <td>liveness</td>\n",
       "      <td>159</td>\n",
       "    </tr>\n",
       "    <tr>\n",
       "      <th>16</th>\n",
       "      <td>valence</td>\n",
       "      <td>159</td>\n",
       "    </tr>\n",
       "    <tr>\n",
       "      <th>17</th>\n",
       "      <td>duration_ms</td>\n",
       "      <td>159</td>\n",
       "    </tr>\n",
       "    <tr>\n",
       "      <th>18</th>\n",
       "      <td>time_signature</td>\n",
       "      <td>159</td>\n",
       "    </tr>\n",
       "  </tbody>\n",
       "</table>\n",
       "</div>"
      ],
      "text/plain": [
       "             feature  num_missing\n",
       "7       danceability          159\n",
       "8             energy          159\n",
       "9                key          159\n",
       "10          loudness          159\n",
       "11              mode          159\n",
       "12       speechiness          159\n",
       "13      acousticness          159\n",
       "14  instrumentalness          159\n",
       "15          liveness          159\n",
       "16           valence          159\n",
       "17       duration_ms          159\n",
       "18    time_signature          159"
      ]
     },
     "execution_count": 17,
     "metadata": {},
     "output_type": "execute_result"
    }
   ],
   "source": [
    "# search for missing values after joining datasets\n",
    "missing = pd.DataFrame(df.isnull().sum()).reset_index()\n",
    "missing.columns = ['feature', 'num_missing']\n",
    "missing[missing['num_missing']>0]"
   ]
  },
  {
   "cell_type": "code",
   "execution_count": 56,
   "id": "b085a246",
   "metadata": {},
   "outputs": [],
   "source": [
    "# drop songs without audio features\n",
    "df = df.dropna()"
   ]
  },
  {
   "cell_type": "code",
   "execution_count": 57,
   "id": "af4ef605",
   "metadata": {},
   "outputs": [
    {
     "name": "stdout",
     "output_type": "stream",
     "text": [
      "There are 2613 duplicate songs.\n"
     ]
    }
   ],
   "source": [
    "# search for duplicate tracks\n",
    "duplicates = df[df['track_id'].duplicated()]['track_id']\n",
    "print(f'There are {len(duplicates)} duplicate songs.')"
   ]
  },
  {
   "cell_type": "code",
   "execution_count": 58,
   "id": "6cfe7f3f",
   "metadata": {},
   "outputs": [],
   "source": [
    "# remove duplicates\n",
    "df = df.drop_duplicates('track_id', keep='first')"
   ]
  },
  {
   "cell_type": "markdown",
   "id": "0c838da2",
   "metadata": {},
   "source": [
    "### Examine target feature "
   ]
  },
  {
   "cell_type": "code",
   "execution_count": 59,
   "id": "5f039736",
   "metadata": {},
   "outputs": [
    {
     "data": {
      "image/png": "[encoded data removed]",
      "text/plain": [
       "<Figure size 500x150 with 1 Axes>"
      ]
     },
     "metadata": {},
     "output_type": "display_data"
    }
   ],
   "source": [
    "plt.figure(figsize=(5,1.5))\n",
    "# plot the distribution of target feature\n",
    "ax = sns.histplot(df['popularity'])\n",
    "ax.set_yscale('log')\n",
    "ax.set(xlabel='Popularity Score', ylabel='Number of Songs')\n",
    "plt.title('Histogram of Popularity Scores')\n",
    "plt.show()"
   ]
  },
  {
   "cell_type": "markdown",
   "id": "04e2d7df",
   "metadata": {},
   "source": [
    "### Examine predictive features"
   ]
  },
  {
   "cell_type": "code",
   "execution_count": 60,
   "id": "0511df0f",
   "metadata": {},
   "outputs": [
    {
     "name": "stdout",
     "output_type": "stream",
     "text": [
      "There are 604 unique subgenres\n"
     ]
    }
   ],
   "source": [
    "# find the number of unique sub genre combinations\n",
    "genres_df = df.drop_duplicates('artist_name', keep='first')\n",
    "#print(len(genres_df['genres'].unique()))\n",
    "all_subgenres = []\n",
    "for list_genres in genres_df['genres']:\n",
    "    all_subgenres.extend(list_genres)\n",
    "    \n",
    "count_subgenres = Counter(all_subgenres)\n",
    "print(f'There are {len(count_subgenres)} unique subgenres')"
   ]
  },
  {
   "cell_type": "code",
   "execution_count": 61,
   "id": "9373c8c1",
   "metadata": {},
   "outputs": [],
   "source": [
    "# consolidate sub-genres into main genres\n",
    "main_genres = ['hip-hop/rap', 'pop', 'rock', 'latin', 'metal', 'edm', 'r&b', 'country', 'classical']\n",
    "\n",
    "\n",
    "def find_main_genres(list_subgenres):\n",
    "    \"\"\"derive the main genre of a given artist based on their provided subgenres\"\"\"\n",
    "    str_sub_genres = \" \".join(list_subgenres)\n",
    "    \n",
    "    genre_conversion = {\n",
    "        'hip hop': 'hip-hop/rap',\n",
    "        'rap': 'hip-hop/rap',\n",
    "        'pop': 'pop',\n",
    "        'rock': 'rock',\n",
    "        'metal': 'metal',\n",
    "        'edm': 'edm',\n",
    "        'house': 'edm',\n",
    "        'county': 'county',\n",
    "        'classical': 'classical',\n",
    "        'latino': 'latino'\n",
    "    }\n",
    "    \n",
    "    # convert sub-genres to list of genres\n",
    "    main_genres = []\n",
    "    for genre in genre_conversion:\n",
    "        if genre in str_sub_genres:\n",
    "            main_genres.append(genre_conversion[genre])\n",
    "    \n",
    "    # select the most common genre in the list of genres\n",
    "    if len(main_genres) == 0:\n",
    "        \n",
    "        # return other if no main genre is found\n",
    "        return 'other'\n",
    "    else:\n",
    "        \n",
    "        # return the most frequent genre\n",
    "        genre_count = Counter(main_genres)\n",
    "        return genre_count.most_common(1)[0][0]"
   ]
  },
  {
   "cell_type": "code",
   "execution_count": 62,
   "id": "99963f38",
   "metadata": {},
   "outputs": [],
   "source": [
    "# find the main genres of each track\n",
    "df['main_genre'] = df['genres'].apply(lambda x: find_main_genres(x))"
   ]
  },
  {
   "cell_type": "code",
   "execution_count": 63,
   "id": "e6153c09",
   "metadata": {},
   "outputs": [
    {
     "data": {
      "image/png": "[encoded data removed]",
      "text/plain": [
       "<Figure size 640x480 with 1 Axes>"
      ]
     },
     "metadata": {},
     "output_type": "display_data"
    }
   ],
   "source": [
    "# plot the number of tracks with each genre\n",
    "sns.set()\n",
    "df['main_genre'].value_counts().plot.bar()\n",
    "plt.xlabel('Main Genre')\n",
    "plt.ylabel('Count')\n",
    "plt.title('Number of tracks with each main genre')\n",
    "plt.show()"
   ]
  },
  {
   "cell_type": "code",
   "execution_count": 64,
   "id": "40223295",
   "metadata": {},
   "outputs": [],
   "source": [
    "def pop_or_rap(subgenres):\n",
    "    \"\"\"Determines whether or not a song is pop and/or rap based on the given subgenres\"\"\"\n",
    "    rap_or_pop = []\n",
    "    for subgenre in subgenres:\n",
    "        if 'hip hop' in subgenre or 'rap' in subgenre or 'pop' in subgenre:\n",
    "            return 1\n",
    "        return 0\n",
    "        \n",
    "# turn genre into a binary variable\n",
    "df['is_pop_or_rap'] = df['genres'].apply(lambda x: pop_or_rap(x))"
   ]
  },
  {
   "cell_type": "code",
   "execution_count": 65,
   "id": "408fbc75",
   "metadata": {},
   "outputs": [],
   "source": [
    "# drop genre features\n",
    "df = df.drop(['genres', 'main_genre'], axis=1)"
   ]
  },
  {
   "cell_type": "code",
   "execution_count": 66,
   "id": "6a6377f8",
   "metadata": {},
   "outputs": [
    {
     "data": {
      "text/html": [
       "<div>\n",
       "<style scoped>\n",
       "    .dataframe tbody tr th:only-of-type {\n",
       "        vertical-align: middle;\n",
       "    }\n",
       "\n",
       "    .dataframe tbody tr th {\n",
       "        vertical-align: top;\n",
       "    }\n",
       "\n",
       "    .dataframe thead th {\n",
       "        text-align: right;\n",
       "    }\n",
       "</style>\n",
       "<table border=\"1\" class=\"dataframe\">\n",
       "  <thead>\n",
       "    <tr style=\"text-align: right;\">\n",
       "      <th></th>\n",
       "      <th>track_id</th>\n",
       "      <th>is_pop_or_rap</th>\n",
       "    </tr>\n",
       "  </thead>\n",
       "  <tbody>\n",
       "    <tr>\n",
       "      <th>76338</th>\n",
       "      <td>4Fd2jLQspwZVv7hF3bXHFg</td>\n",
       "      <td>NaN</td>\n",
       "    </tr>\n",
       "    <tr>\n",
       "      <th>76339</th>\n",
       "      <td>49gy4VLiaUupmf4WMqt4vm</td>\n",
       "      <td>NaN</td>\n",
       "    </tr>\n",
       "    <tr>\n",
       "      <th>76340</th>\n",
       "      <td>7jI5gFdBX8ZzxW1dYikMvs</td>\n",
       "      <td>NaN</td>\n",
       "    </tr>\n",
       "    <tr>\n",
       "      <th>76341</th>\n",
       "      <td>1XbNa4RJHTjjEvzyPmZpRD</td>\n",
       "      <td>NaN</td>\n",
       "    </tr>\n",
       "    <tr>\n",
       "      <th>76342</th>\n",
       "      <td>5Sais3rpCiDlsL7b1aNQeS</td>\n",
       "      <td>NaN</td>\n",
       "    </tr>\n",
       "  </tbody>\n",
       "</table>\n",
       "</div>"
      ],
      "text/plain": [
       "                     track_id  is_pop_or_rap\n",
       "76338  4Fd2jLQspwZVv7hF3bXHFg            NaN\n",
       "76339  49gy4VLiaUupmf4WMqt4vm            NaN\n",
       "76340  7jI5gFdBX8ZzxW1dYikMvs            NaN\n",
       "76341  1XbNa4RJHTjjEvzyPmZpRD            NaN\n",
       "76342  5Sais3rpCiDlsL7b1aNQeS            NaN"
      ]
     },
     "execution_count": 66,
     "metadata": {},
     "output_type": "execute_result"
    }
   ],
   "source": [
    "# search for missing values in is_pop_or_rap feauture\n",
    "df[df['is_pop_or_rap'].isnull()][['track_id', 'is_pop_or_rap']].head()"
   ]
  },
  {
   "cell_type": "code",
   "execution_count": 67,
   "id": "fd6a130c",
   "metadata": {},
   "outputs": [
    {
     "data": {
      "text/plain": [
       "NEFFEX    260\n",
       "Name: artist_name, dtype: int64"
      ]
     },
     "execution_count": 67,
     "metadata": {},
     "output_type": "execute_result"
    }
   ],
   "source": [
    "# identify artist(s) with missing values\n",
    "df[df['is_pop_or_rap'].isnull()]['artist_name'].value_counts()"
   ]
  },
  {
   "cell_type": "code",
   "execution_count": 68,
   "id": "f5ae8774",
   "metadata": {},
   "outputs": [],
   "source": [
    "# fill missing values\n",
    "df['is_pop_or_rap'] = df['is_pop_or_rap'].fillna(1)"
   ]
  },
  {
   "cell_type": "code",
   "execution_count": 69,
   "id": "4355d7b1",
   "metadata": {},
   "outputs": [
    {
     "data": {
      "text/plain": [
       "Index(['track_id', 'track_name', 'artist_id', 'artist_name', 'explicit',\n",
       "       'release_date', 'popularity', 'danceability', 'energy', 'key',\n",
       "       'loudness', 'mode', 'speechiness', 'acousticness', 'instrumentalness',\n",
       "       'liveness', 'valence', 'duration_ms', 'time_signature', 'artist',\n",
       "       'followers', 'is_pop_or_rap'],\n",
       "      dtype='object')"
      ]
     },
     "execution_count": 69,
     "metadata": {},
     "output_type": "execute_result"
    }
   ],
   "source": [
    "df.columns"
   ]
  },
  {
   "cell_type": "code",
   "execution_count": null,
   "id": "2139f20b",
   "metadata": {},
   "outputs": [],
   "source": [
    "# plot the distribution of audio features with histogram\n",
    "sns.set()\n",
    "fig, axes = plt.subplots(4, 3, figsize=(12, 5))\n",
    "fig.tight_layout(pad=3.0)\n",
    "\n",
    "sns.histplot(ax=axes[0, 0], data=df, x='danceability')\n",
    "sns.histplot(ax=axes[0, 1], data=df, x='energy')\n",
    "sns.histplot(ax=axes[0, 2], data=df, x='key')\n",
    "sns.histplot(ax=axes[1, 0], data=df, x='loudness')\n",
    "sns.histplot(ax=axes[1, 1], data=df, x='mode')\n",
    "sns.histplot(ax=axes[1, 2], data=df, x='speechiness')\n",
    "sns.histplot(ax=axes[2, 0], data=df, x='acousticness')\n",
    "sns.histplot(ax=axes[2, 1], data=df, x='instrumentalness')\n",
    "sns.histplot(ax=axes[2, 2], data=df, x='liveness')\n",
    "sns.histplot(ax=axes[3, 0], data=df, x='valence')\n",
    "sns.histplot(ax=axes[3, 1], data=df, x='duration_ms')\n",
    "sns.histplot(ax=axes[3, 2], data=df, x='followers')\n",
    "\n",
    "axes[0, 0].title.set_text('Distribution of danceability feature')\n",
    "axes[0, 1].title.set_text('Distribution of energy feature')\n",
    "axes[0, 2].title.set_text('Distribution of key feature')\n",
    "axes[1, 0].title.set_text('Distribution of loudness feature')\n",
    "axes[1, 1].title.set_text('Distribution of mode feature')\n",
    "axes[1, 2].title.set_text('Distribution of speechiness feature')\n",
    "axes[2, 0].title.set_text('Distribution of accousticness feature')\n",
    "axes[2, 1].title.set_text('Distribution of instrumentalness feature')\n",
    "axes[2, 2].title.set_text('Distribution of liveness feature')\n",
    "axes[3, 0].title.set_text('Distribution of valence feature')\n",
    "axes[3, 1].title.set_text('Distribution of duration_ms feature')\n",
    "axes[3, 2].title.set_text('Distribution of followers feature')"
   ]
  },
  {
   "cell_type": "markdown",
   "id": "61e71ad9",
   "metadata": {},
   "source": [
    "### Deriving time since release"
   ]
  },
  {
   "cell_type": "code",
   "execution_count": 29,
   "id": "bf4100f5",
   "metadata": {},
   "outputs": [],
   "source": [
    "# find the number of months that elapsed since the release of the songs\n",
    "df['months_since_release'] = 12 - pd.DatetimeIndex(df['release_date']).month\n",
    "df = df.drop('release_date', axis=1)"
   ]
  },
  {
   "cell_type": "code",
   "execution_count": 30,
   "id": "56cb6eec",
   "metadata": {},
   "outputs": [],
   "source": [
    "# convert song duration units from ms to s\n",
    "df['duration_s'] = df['duration_ms'].apply(lambda x: x/1000)\n",
    "df = df.drop('duration_ms', axis=1)"
   ]
  },
  {
   "cell_type": "markdown",
   "id": "c2193ed5",
   "metadata": {},
   "source": [
    "### Identifying features contributing to multicolinearity"
   ]
  },
  {
   "cell_type": "code",
   "execution_count": 31,
   "id": "0bea83c9",
   "metadata": {},
   "outputs": [
    {
     "data": {
      "image/png": "[encoded data removed]",
      "text/plain": [
       "<Figure size 1000x700 with 2 Axes>"
      ]
     },
     "metadata": {},
     "output_type": "display_data"
    }
   ],
   "source": [
    "# set figure size\n",
    "plt.figure(figsize=(10,7))\n",
    "\n",
    "# Generate a mask to onlyshow the bottom triangle\n",
    "mask = np.triu(np.ones_like(df.corr(), dtype=bool))\n",
    "\n",
    "# generate heatmap\n",
    "sns.heatmap(df.corr(), annot=True, mask=mask, vmin=-1, vmax=1)\n",
    "plt.title('Correlation Coefficient Of Predictors')\n",
    "plt.show()"
   ]
  },
  {
   "cell_type": "code",
   "execution_count": 32,
   "id": "aef8f459",
   "metadata": {},
   "outputs": [],
   "source": [
    "def compute_vif(df:pd.DataFrame, considered_features:list)->pd.DataFrame:\n",
    "    \"\"\"returns the VIF values of the given list of features as a data frame\"\"\"\n",
    "\n",
    "    X = df[considered_features]\n",
    "    # the calculation of variance inflation requires a constant\n",
    "    X['intercept'] = 1\n",
    "    \n",
    "    # create dataframe to store vif values\n",
    "    vif = pd.DataFrame()\n",
    "    vif[\"Variable\"] = X.columns\n",
    "    vif[\"VIF\"] = [variance_inflation_factor(X.values, i) for i in range(X.shape[1])]\n",
    "    vif = vif[vif['Variable']!='intercept']\n",
    "    return vif"
   ]
  },
  {
   "cell_type": "code",
   "execution_count": 33,
   "id": "4803b558",
   "metadata": {},
   "outputs": [
    {
     "data": {
      "text/html": [
       "<div>\n",
       "<style scoped>\n",
       "    .dataframe tbody tr th:only-of-type {\n",
       "        vertical-align: middle;\n",
       "    }\n",
       "\n",
       "    .dataframe tbody tr th {\n",
       "        vertical-align: top;\n",
       "    }\n",
       "\n",
       "    .dataframe thead th {\n",
       "        text-align: right;\n",
       "    }\n",
       "</style>\n",
       "<table border=\"1\" class=\"dataframe\">\n",
       "  <thead>\n",
       "    <tr style=\"text-align: right;\">\n",
       "      <th></th>\n",
       "      <th>Variable</th>\n",
       "      <th>VIF</th>\n",
       "    </tr>\n",
       "  </thead>\n",
       "  <tbody>\n",
       "    <tr>\n",
       "      <th>0</th>\n",
       "      <td>explicit</td>\n",
       "      <td>1.211034</td>\n",
       "    </tr>\n",
       "    <tr>\n",
       "      <th>1</th>\n",
       "      <td>danceability</td>\n",
       "      <td>1.596256</td>\n",
       "    </tr>\n",
       "    <tr>\n",
       "      <th>2</th>\n",
       "      <td>energy</td>\n",
       "      <td>3.478912</td>\n",
       "    </tr>\n",
       "    <tr>\n",
       "      <th>3</th>\n",
       "      <td>key</td>\n",
       "      <td>1.024001</td>\n",
       "    </tr>\n",
       "    <tr>\n",
       "      <th>4</th>\n",
       "      <td>loudness</td>\n",
       "      <td>3.060071</td>\n",
       "    </tr>\n",
       "    <tr>\n",
       "      <th>5</th>\n",
       "      <td>mode</td>\n",
       "      <td>1.053140</td>\n",
       "    </tr>\n",
       "    <tr>\n",
       "      <th>6</th>\n",
       "      <td>speechiness</td>\n",
       "      <td>1.214081</td>\n",
       "    </tr>\n",
       "    <tr>\n",
       "      <th>7</th>\n",
       "      <td>acousticness</td>\n",
       "      <td>2.031329</td>\n",
       "    </tr>\n",
       "    <tr>\n",
       "      <th>8</th>\n",
       "      <td>instrumentalness</td>\n",
       "      <td>1.486325</td>\n",
       "    </tr>\n",
       "    <tr>\n",
       "      <th>9</th>\n",
       "      <td>liveness</td>\n",
       "      <td>1.077065</td>\n",
       "    </tr>\n",
       "    <tr>\n",
       "      <th>10</th>\n",
       "      <td>valence</td>\n",
       "      <td>1.549825</td>\n",
       "    </tr>\n",
       "    <tr>\n",
       "      <th>11</th>\n",
       "      <td>duration_s</td>\n",
       "      <td>1.075536</td>\n",
       "    </tr>\n",
       "    <tr>\n",
       "      <th>12</th>\n",
       "      <td>time_signature</td>\n",
       "      <td>1.078200</td>\n",
       "    </tr>\n",
       "    <tr>\n",
       "      <th>13</th>\n",
       "      <td>followers</td>\n",
       "      <td>1.011928</td>\n",
       "    </tr>\n",
       "  </tbody>\n",
       "</table>\n",
       "</div>"
      ],
      "text/plain": [
       "            Variable       VIF\n",
       "0           explicit  1.211034\n",
       "1       danceability  1.596256\n",
       "2             energy  3.478912\n",
       "3                key  1.024001\n",
       "4           loudness  3.060071\n",
       "5               mode  1.053140\n",
       "6        speechiness  1.214081\n",
       "7       acousticness  2.031329\n",
       "8   instrumentalness  1.486325\n",
       "9           liveness  1.077065\n",
       "10           valence  1.549825\n",
       "11        duration_s  1.075536\n",
       "12    time_signature  1.078200\n",
       "13         followers  1.011928"
      ]
     },
     "execution_count": 33,
     "metadata": {},
     "output_type": "execute_result"
    }
   ],
   "source": [
    "# compute VIF for the audio features\n",
    "considered_features = ['explicit', 'danceability', 'energy', 'key', 'loudness', 'mode', 'speechiness', 'acousticness', 'instrumentalness', 'liveness', 'valence', 'duration_s', 'time_signature', 'followers']\n",
    "compute_vif(df=df, considered_features=considered_features)"
   ]
  },
  {
   "cell_type": "markdown",
   "id": "0d3fa4ec",
   "metadata": {},
   "source": [
    "### Key Takeaways from EDA"
   ]
  },
  {
   "cell_type": "markdown",
   "id": "78c32424",
   "metadata": {},
   "source": [
    "1. There are 159 records with missing audio features data, which need to be removed prior to modeling\n",
    "2. There are 2613 duplicate songs, which need to be removed prior to modeling\n",
    "3. The audio features all have skewed data distributions with outliers\n",
    "4. There are 604 unique subgenres in the dataset, which need to be consolidated into fewer groups to avoid high dimensionality\n",
    "5. The duration metric is currently reported in milliseconds and should be converted to seconds to be intuitive\n",
    "6. All of the variables yielded a low variance inflation factor (i.e., less than 5), so there is little multicollinearity in the dataset"
   ]
  },
  {
   "cell_type": "markdown",
   "id": "c25cf3c9",
   "metadata": {},
   "source": [
    "### Export processed data frame to .xlsx file"
   ]
  },
  {
   "cell_type": "code",
   "execution_count": 34,
   "id": "fea34441",
   "metadata": {},
   "outputs": [
    {
     "data": {
      "text/html": [
       "<div>\n",
       "<style scoped>\n",
       "    .dataframe tbody tr th:only-of-type {\n",
       "        vertical-align: middle;\n",
       "    }\n",
       "\n",
       "    .dataframe tbody tr th {\n",
       "        vertical-align: top;\n",
       "    }\n",
       "\n",
       "    .dataframe thead th {\n",
       "        text-align: right;\n",
       "    }\n",
       "</style>\n",
       "<table border=\"1\" class=\"dataframe\">\n",
       "  <thead>\n",
       "    <tr style=\"text-align: right;\">\n",
       "      <th></th>\n",
       "      <th>track_id</th>\n",
       "      <th>track_name</th>\n",
       "      <th>artist_id</th>\n",
       "      <th>artist_name</th>\n",
       "      <th>explicit</th>\n",
       "      <th>popularity</th>\n",
       "      <th>danceability</th>\n",
       "      <th>energy</th>\n",
       "      <th>key</th>\n",
       "      <th>loudness</th>\n",
       "      <th>...</th>\n",
       "      <th>acousticness</th>\n",
       "      <th>instrumentalness</th>\n",
       "      <th>liveness</th>\n",
       "      <th>valence</th>\n",
       "      <th>time_signature</th>\n",
       "      <th>artist</th>\n",
       "      <th>followers</th>\n",
       "      <th>is_pop_or_rap</th>\n",
       "      <th>months_since_release</th>\n",
       "      <th>duration_s</th>\n",
       "    </tr>\n",
       "  </thead>\n",
       "  <tbody>\n",
       "    <tr>\n",
       "      <th>0</th>\n",
       "      <td>1bDbXMyjaUIooNwFE9wn0N</td>\n",
       "      <td>Rich Flex</td>\n",
       "      <td>3TVXtAsR1Inumwj472S9r4</td>\n",
       "      <td>Drake</td>\n",
       "      <td>1</td>\n",
       "      <td>96</td>\n",
       "      <td>0.561</td>\n",
       "      <td>0.520</td>\n",
       "      <td>11.0</td>\n",
       "      <td>-9.342</td>\n",
       "      <td>...</td>\n",
       "      <td>0.050300</td>\n",
       "      <td>0.000002</td>\n",
       "      <td>0.3550</td>\n",
       "      <td>0.424</td>\n",
       "      <td>3.0</td>\n",
       "      <td>Drake</td>\n",
       "      <td>70260570</td>\n",
       "      <td>1.0</td>\n",
       "      <td>1</td>\n",
       "      <td>239.360</td>\n",
       "    </tr>\n",
       "    <tr>\n",
       "      <th>1</th>\n",
       "      <td>3F5CgOj3wFlRv51JsHbxhe</td>\n",
       "      <td>Jimmy Cooks (feat. 21 Savage)</td>\n",
       "      <td>3TVXtAsR1Inumwj472S9r4</td>\n",
       "      <td>Drake</td>\n",
       "      <td>1</td>\n",
       "      <td>90</td>\n",
       "      <td>0.529</td>\n",
       "      <td>0.673</td>\n",
       "      <td>0.0</td>\n",
       "      <td>-4.711</td>\n",
       "      <td>...</td>\n",
       "      <td>0.000307</td>\n",
       "      <td>0.000002</td>\n",
       "      <td>0.0930</td>\n",
       "      <td>0.366</td>\n",
       "      <td>4.0</td>\n",
       "      <td>Drake</td>\n",
       "      <td>70260570</td>\n",
       "      <td>1.0</td>\n",
       "      <td>6</td>\n",
       "      <td>218.365</td>\n",
       "    </tr>\n",
       "    <tr>\n",
       "      <th>2</th>\n",
       "      <td>2KLwPaRDOB87XOYAT2fgxh</td>\n",
       "      <td>Pussy &amp; Millions (feat. Travis Scott)</td>\n",
       "      <td>3TVXtAsR1Inumwj472S9r4</td>\n",
       "      <td>Drake</td>\n",
       "      <td>1</td>\n",
       "      <td>89</td>\n",
       "      <td>0.749</td>\n",
       "      <td>0.630</td>\n",
       "      <td>4.0</td>\n",
       "      <td>-6.652</td>\n",
       "      <td>...</td>\n",
       "      <td>0.062300</td>\n",
       "      <td>0.000000</td>\n",
       "      <td>0.3530</td>\n",
       "      <td>0.445</td>\n",
       "      <td>4.0</td>\n",
       "      <td>Drake</td>\n",
       "      <td>70260570</td>\n",
       "      <td>1.0</td>\n",
       "      <td>1</td>\n",
       "      <td>242.027</td>\n",
       "    </tr>\n",
       "    <tr>\n",
       "      <th>3</th>\n",
       "      <td>46s57QULU02Voy0Kup6UEb</td>\n",
       "      <td>Major Distribution</td>\n",
       "      <td>3TVXtAsR1Inumwj472S9r4</td>\n",
       "      <td>Drake</td>\n",
       "      <td>1</td>\n",
       "      <td>88</td>\n",
       "      <td>0.908</td>\n",
       "      <td>0.546</td>\n",
       "      <td>8.0</td>\n",
       "      <td>-10.491</td>\n",
       "      <td>...</td>\n",
       "      <td>0.012700</td>\n",
       "      <td>0.000000</td>\n",
       "      <td>0.0707</td>\n",
       "      <td>0.225</td>\n",
       "      <td>4.0</td>\n",
       "      <td>Drake</td>\n",
       "      <td>70260570</td>\n",
       "      <td>1.0</td>\n",
       "      <td>1</td>\n",
       "      <td>170.502</td>\n",
       "    </tr>\n",
       "    <tr>\n",
       "      <th>4</th>\n",
       "      <td>34tz0eDhGuFErIuW3q4mPX</td>\n",
       "      <td>On BS</td>\n",
       "      <td>3TVXtAsR1Inumwj472S9r4</td>\n",
       "      <td>Drake</td>\n",
       "      <td>1</td>\n",
       "      <td>88</td>\n",
       "      <td>0.841</td>\n",
       "      <td>0.358</td>\n",
       "      <td>9.0</td>\n",
       "      <td>-8.368</td>\n",
       "      <td>...</td>\n",
       "      <td>0.020100</td>\n",
       "      <td>0.000000</td>\n",
       "      <td>0.3900</td>\n",
       "      <td>0.329</td>\n",
       "      <td>4.0</td>\n",
       "      <td>Drake</td>\n",
       "      <td>70260570</td>\n",
       "      <td>1.0</td>\n",
       "      <td>1</td>\n",
       "      <td>261.544</td>\n",
       "    </tr>\n",
       "  </tbody>\n",
       "</table>\n",
       "<p>5 rows × 22 columns</p>\n",
       "</div>"
      ],
      "text/plain": [
       "                 track_id                             track_name  \\\n",
       "0  1bDbXMyjaUIooNwFE9wn0N                              Rich Flex   \n",
       "1  3F5CgOj3wFlRv51JsHbxhe          Jimmy Cooks (feat. 21 Savage)   \n",
       "2  2KLwPaRDOB87XOYAT2fgxh  Pussy & Millions (feat. Travis Scott)   \n",
       "3  46s57QULU02Voy0Kup6UEb                     Major Distribution   \n",
       "4  34tz0eDhGuFErIuW3q4mPX                                  On BS   \n",
       "\n",
       "                artist_id artist_name  explicit  popularity  danceability  \\\n",
       "0  3TVXtAsR1Inumwj472S9r4       Drake         1          96         0.561   \n",
       "1  3TVXtAsR1Inumwj472S9r4       Drake         1          90         0.529   \n",
       "2  3TVXtAsR1Inumwj472S9r4       Drake         1          89         0.749   \n",
       "3  3TVXtAsR1Inumwj472S9r4       Drake         1          88         0.908   \n",
       "4  3TVXtAsR1Inumwj472S9r4       Drake         1          88         0.841   \n",
       "\n",
       "   energy   key  loudness  ...  acousticness  instrumentalness  liveness  \\\n",
       "0   0.520  11.0    -9.342  ...      0.050300          0.000002    0.3550   \n",
       "1   0.673   0.0    -4.711  ...      0.000307          0.000002    0.0930   \n",
       "2   0.630   4.0    -6.652  ...      0.062300          0.000000    0.3530   \n",
       "3   0.546   8.0   -10.491  ...      0.012700          0.000000    0.0707   \n",
       "4   0.358   9.0    -8.368  ...      0.020100          0.000000    0.3900   \n",
       "\n",
       "   valence  time_signature  artist  followers is_pop_or_rap  \\\n",
       "0    0.424             3.0   Drake   70260570           1.0   \n",
       "1    0.366             4.0   Drake   70260570           1.0   \n",
       "2    0.445             4.0   Drake   70260570           1.0   \n",
       "3    0.225             4.0   Drake   70260570           1.0   \n",
       "4    0.329             4.0   Drake   70260570           1.0   \n",
       "\n",
       "   months_since_release  duration_s  \n",
       "0                     1     239.360  \n",
       "1                     6     218.365  \n",
       "2                     1     242.027  \n",
       "3                     1     170.502  \n",
       "4                     1     261.544  \n",
       "\n",
       "[5 rows x 22 columns]"
      ]
     },
     "execution_count": 34,
     "metadata": {},
     "output_type": "execute_result"
    }
   ],
   "source": [
    "df.head()"
   ]
  },
  {
   "cell_type": "code",
   "execution_count": 35,
   "id": "4c412f3c",
   "metadata": {},
   "outputs": [],
   "source": [
    "# export dataset\n",
    "df.to_excel('Data/Processed Data/model_data.xlsx', index=False)"
   ]
  },
  {
   "cell_type": "code",
   "execution_count": null,
   "id": "e8842ade",
   "metadata": {},
   "outputs": [],
   "source": []
  }
 ],
 "metadata": {
  "kernelspec": {
   "display_name": "spotify",
   "language": "python",
   "name": "spotify"
  },
  "language_info": {
   "codemirror_mode": {
    "name": "ipython",
    "version": 3
   },
   "file_extension": ".py",
   "mimetype": "text/x-python",
   "name": "python",
   "nbconvert_exporter": "python",
   "pygments_lexer": "ipython3",
   "version": "3.9.13"
  },
  "toc": {
   "base_numbering": 1,
   "nav_menu": {},
   "number_sections": true,
   "sideBar": true,
   "skip_h1_title": false,
   "title_cell": "Table of Contents",
   "title_sidebar": "Contents",
   "toc_cell": false,
   "toc_position": {},
   "toc_section_display": true,
   "toc_window_display": false
  }
 },
 "nbformat": 4,
 "nbformat_minor": 5
}
