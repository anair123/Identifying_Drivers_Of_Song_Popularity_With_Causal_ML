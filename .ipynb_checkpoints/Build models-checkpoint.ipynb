{
 "cells": [
  {
   "cell_type": "code",
   "execution_count": 8,
   "metadata": {},
   "outputs": [],
   "source": [
    "import pandas as pd\n",
    "import numpy as np\n",
    "from sklearn.model_selection import train_test_split\n",
    "from sklearn.linear_model import LinearRegression\n",
    "from sklearn import linear_model\n",
    "from sklearn.preprocessing import KBinsDiscretizer\n",
    "from sklearn.pipeline import Pipeline\n",
    "from sklearn.metrics import mean_squared_error"
   ]
  },
  {
   "cell_type": "code",
   "execution_count": 2,
   "metadata": {},
   "outputs": [
    {
     "data": {
      "text/html": [
       "<div>\n",
       "<style scoped>\n",
       "    .dataframe tbody tr th:only-of-type {\n",
       "        vertical-align: middle;\n",
       "    }\n",
       "\n",
       "    .dataframe tbody tr th {\n",
       "        vertical-align: top;\n",
       "    }\n",
       "\n",
       "    .dataframe thead th {\n",
       "        text-align: right;\n",
       "    }\n",
       "</style>\n",
       "<table border=\"1\" class=\"dataframe\">\n",
       "  <thead>\n",
       "    <tr style=\"text-align: right;\">\n",
       "      <th></th>\n",
       "      <th>track_id</th>\n",
       "      <th>track_name</th>\n",
       "      <th>artist_id</th>\n",
       "      <th>artist_name</th>\n",
       "      <th>explicit</th>\n",
       "      <th>popularity</th>\n",
       "      <th>danceability</th>\n",
       "      <th>energy</th>\n",
       "      <th>key</th>\n",
       "      <th>loudness</th>\n",
       "      <th>...</th>\n",
       "      <th>acousticness</th>\n",
       "      <th>instrumentalness</th>\n",
       "      <th>liveness</th>\n",
       "      <th>valence</th>\n",
       "      <th>time_signature</th>\n",
       "      <th>artist</th>\n",
       "      <th>followers</th>\n",
       "      <th>is_pop_or_rap</th>\n",
       "      <th>months_since_release</th>\n",
       "      <th>duration_s</th>\n",
       "    </tr>\n",
       "  </thead>\n",
       "  <tbody>\n",
       "    <tr>\n",
       "      <th>0</th>\n",
       "      <td>1bDbXMyjaUIooNwFE9wn0N</td>\n",
       "      <td>Rich Flex</td>\n",
       "      <td>3TVXtAsR1Inumwj472S9r4</td>\n",
       "      <td>Drake</td>\n",
       "      <td>1</td>\n",
       "      <td>96</td>\n",
       "      <td>0.561</td>\n",
       "      <td>0.520</td>\n",
       "      <td>11</td>\n",
       "      <td>-9.342</td>\n",
       "      <td>...</td>\n",
       "      <td>0.050300</td>\n",
       "      <td>0.000002</td>\n",
       "      <td>0.3550</td>\n",
       "      <td>0.424</td>\n",
       "      <td>3</td>\n",
       "      <td>Drake</td>\n",
       "      <td>70260570</td>\n",
       "      <td>1</td>\n",
       "      <td>1</td>\n",
       "      <td>239.360</td>\n",
       "    </tr>\n",
       "    <tr>\n",
       "      <th>1</th>\n",
       "      <td>3F5CgOj3wFlRv51JsHbxhe</td>\n",
       "      <td>Jimmy Cooks (feat. 21 Savage)</td>\n",
       "      <td>3TVXtAsR1Inumwj472S9r4</td>\n",
       "      <td>Drake</td>\n",
       "      <td>1</td>\n",
       "      <td>90</td>\n",
       "      <td>0.529</td>\n",
       "      <td>0.673</td>\n",
       "      <td>0</td>\n",
       "      <td>-4.711</td>\n",
       "      <td>...</td>\n",
       "      <td>0.000307</td>\n",
       "      <td>0.000002</td>\n",
       "      <td>0.0930</td>\n",
       "      <td>0.366</td>\n",
       "      <td>4</td>\n",
       "      <td>Drake</td>\n",
       "      <td>70260570</td>\n",
       "      <td>1</td>\n",
       "      <td>6</td>\n",
       "      <td>218.365</td>\n",
       "    </tr>\n",
       "    <tr>\n",
       "      <th>2</th>\n",
       "      <td>2KLwPaRDOB87XOYAT2fgxh</td>\n",
       "      <td>Pussy &amp; Millions (feat. Travis Scott)</td>\n",
       "      <td>3TVXtAsR1Inumwj472S9r4</td>\n",
       "      <td>Drake</td>\n",
       "      <td>1</td>\n",
       "      <td>89</td>\n",
       "      <td>0.749</td>\n",
       "      <td>0.630</td>\n",
       "      <td>4</td>\n",
       "      <td>-6.652</td>\n",
       "      <td>...</td>\n",
       "      <td>0.062300</td>\n",
       "      <td>0.000000</td>\n",
       "      <td>0.3530</td>\n",
       "      <td>0.445</td>\n",
       "      <td>4</td>\n",
       "      <td>Drake</td>\n",
       "      <td>70260570</td>\n",
       "      <td>1</td>\n",
       "      <td>1</td>\n",
       "      <td>242.027</td>\n",
       "    </tr>\n",
       "    <tr>\n",
       "      <th>3</th>\n",
       "      <td>46s57QULU02Voy0Kup6UEb</td>\n",
       "      <td>Major Distribution</td>\n",
       "      <td>3TVXtAsR1Inumwj472S9r4</td>\n",
       "      <td>Drake</td>\n",
       "      <td>1</td>\n",
       "      <td>88</td>\n",
       "      <td>0.908</td>\n",
       "      <td>0.546</td>\n",
       "      <td>8</td>\n",
       "      <td>-10.491</td>\n",
       "      <td>...</td>\n",
       "      <td>0.012700</td>\n",
       "      <td>0.000000</td>\n",
       "      <td>0.0707</td>\n",
       "      <td>0.225</td>\n",
       "      <td>4</td>\n",
       "      <td>Drake</td>\n",
       "      <td>70260570</td>\n",
       "      <td>1</td>\n",
       "      <td>1</td>\n",
       "      <td>170.502</td>\n",
       "    </tr>\n",
       "    <tr>\n",
       "      <th>4</th>\n",
       "      <td>34tz0eDhGuFErIuW3q4mPX</td>\n",
       "      <td>On BS</td>\n",
       "      <td>3TVXtAsR1Inumwj472S9r4</td>\n",
       "      <td>Drake</td>\n",
       "      <td>1</td>\n",
       "      <td>88</td>\n",
       "      <td>0.841</td>\n",
       "      <td>0.358</td>\n",
       "      <td>9</td>\n",
       "      <td>-8.368</td>\n",
       "      <td>...</td>\n",
       "      <td>0.020100</td>\n",
       "      <td>0.000000</td>\n",
       "      <td>0.3900</td>\n",
       "      <td>0.329</td>\n",
       "      <td>4</td>\n",
       "      <td>Drake</td>\n",
       "      <td>70260570</td>\n",
       "      <td>1</td>\n",
       "      <td>1</td>\n",
       "      <td>261.544</td>\n",
       "    </tr>\n",
       "  </tbody>\n",
       "</table>\n",
       "<p>5 rows × 22 columns</p>\n",
       "</div>"
      ],
      "text/plain": [
       "                 track_id                             track_name  \\\n",
       "0  1bDbXMyjaUIooNwFE9wn0N                              Rich Flex   \n",
       "1  3F5CgOj3wFlRv51JsHbxhe          Jimmy Cooks (feat. 21 Savage)   \n",
       "2  2KLwPaRDOB87XOYAT2fgxh  Pussy & Millions (feat. Travis Scott)   \n",
       "3  46s57QULU02Voy0Kup6UEb                     Major Distribution   \n",
       "4  34tz0eDhGuFErIuW3q4mPX                                  On BS   \n",
       "\n",
       "                artist_id artist_name  explicit  popularity  danceability  \\\n",
       "0  3TVXtAsR1Inumwj472S9r4       Drake         1          96         0.561   \n",
       "1  3TVXtAsR1Inumwj472S9r4       Drake         1          90         0.529   \n",
       "2  3TVXtAsR1Inumwj472S9r4       Drake         1          89         0.749   \n",
       "3  3TVXtAsR1Inumwj472S9r4       Drake         1          88         0.908   \n",
       "4  3TVXtAsR1Inumwj472S9r4       Drake         1          88         0.841   \n",
       "\n",
       "   energy  key  loudness  ...  acousticness  instrumentalness  liveness  \\\n",
       "0   0.520   11    -9.342  ...      0.050300          0.000002    0.3550   \n",
       "1   0.673    0    -4.711  ...      0.000307          0.000002    0.0930   \n",
       "2   0.630    4    -6.652  ...      0.062300          0.000000    0.3530   \n",
       "3   0.546    8   -10.491  ...      0.012700          0.000000    0.0707   \n",
       "4   0.358    9    -8.368  ...      0.020100          0.000000    0.3900   \n",
       "\n",
       "   valence  time_signature  artist  followers is_pop_or_rap  \\\n",
       "0    0.424               3   Drake   70260570             1   \n",
       "1    0.366               4   Drake   70260570             1   \n",
       "2    0.445               4   Drake   70260570             1   \n",
       "3    0.225               4   Drake   70260570             1   \n",
       "4    0.329               4   Drake   70260570             1   \n",
       "\n",
       "   months_since_release  duration_s  \n",
       "0                     1     239.360  \n",
       "1                     6     218.365  \n",
       "2                     1     242.027  \n",
       "3                     1     170.502  \n",
       "4                     1     261.544  \n",
       "\n",
       "[5 rows x 22 columns]"
      ]
     },
     "execution_count": 2,
     "metadata": {},
     "output_type": "execute_result"
    }
   ],
   "source": [
    "df = pd.read_excel('Data/Processed Data/model_data.xlsx', nrows=5000)\n",
    "df.head()"
   ]
  },
  {
   "cell_type": "code",
   "execution_count": 3,
   "metadata": {},
   "outputs": [],
   "source": [
    "predictors = ['danceability', 'energy', 'key', 'loudness', 'mode', 'speechiness', 'acousticness', 'instrumentalness', 'liveness', 'valence', 'time_signature', 'followers', 'is_pop_or_rap', 'months_since_release', 'duration_s']\n",
    "target = 'popularity'\n",
    "\n",
    "X = df[predictors]\n",
    "y = df[target]\n",
    "\n",
    "X_train, X_test, y_train, y_test = train_test_split(X, y, test_size=0.30, random_state=42)"
   ]
  },
  {
   "cell_type": "code",
   "execution_count": 4,
   "metadata": {},
   "outputs": [
    {
     "name": "stdout",
     "output_type": "stream",
     "text": [
      "Done!\n"
     ]
    }
   ],
   "source": [
    "\n",
    "# build a baseline model\n",
    "baseline_lr = LinearRegression()\n",
    "baseline_lr.fit(X_train, y_train)\n",
    "\n",
    "y_pred = baseline_lr.predict(X_test)\n",
    "\n",
    "mse = mean_squared_error(y_true=y_test, y_pred=y_pred)\n",
    "rmse = np.sqrt(mse)\n",
    "\n",
    "print('Done!')"
   ]
  },
  {
   "cell_type": "code",
   "execution_count": 5,
   "metadata": {},
   "outputs": [
    {
     "name": "stdout",
     "output_type": "stream",
     "text": [
      "20.08367398491733\n"
     ]
    }
   ],
   "source": [
    "print(rmse)"
   ]
  },
  {
   "cell_type": "code",
   "execution_count": null,
   "metadata": {},
   "outputs": [],
   "source": []
  },
  {
   "cell_type": "markdown",
   "metadata": {},
   "source": [
    "### Lasso Regression"
   ]
  },
  {
   "cell_type": "code",
   "execution_count": 10,
   "metadata": {},
   "outputs": [],
   "source": [
    "est = KBinsDiscretizer(n_bins=20, encode='ordinal', strategy='uniform')"
   ]
  },
  {
   "cell_type": "code",
   "execution_count": 11,
   "metadata": {},
   "outputs": [
    {
     "data": {
      "text/plain": [
       "array([[14., 13.,  9., ..., 19.,  1.,  4.],\n",
       "       [ 2.,  0.,  0., ..., 19., 18.,  6.],\n",
       "       [12., 17.,  9., ...,  0.,  0.,  5.],\n",
       "       ...,\n",
       "       [ 9., 15.,  7., ...,  0., 14., 11.],\n",
       "       [ 8., 13., 12., ...,  0., 19.,  6.],\n",
       "       [ 8., 16.,  1., ...,  0.,  0.,  5.]])"
      ]
     },
     "execution_count": 11,
     "metadata": {},
     "output_type": "execute_result"
    }
   ],
   "source": [
    "est.fit_transform(X_train)"
   ]
  },
  {
   "cell_type": "code",
   "execution_count": 14,
   "metadata": {},
   "outputs": [
    {
     "data": {
      "text/plain": [
       "0     709\n",
       "7     533\n",
       "4     530\n",
       "6     512\n",
       "1     473\n",
       "11    452\n",
       "5     437\n",
       "2     398\n",
       "9     332\n",
       "10    297\n",
       "8     261\n",
       "3      66\n",
       "Name: key, dtype: int64"
      ]
     },
     "execution_count": 14,
     "metadata": {},
     "output_type": "execute_result"
    }
   ],
   "source": [
    "df['key'].value_counts()"
   ]
  },
  {
   "cell_type": "code",
   "execution_count": null,
   "metadata": {},
   "outputs": [],
   "source": []
  }
 ],
 "metadata": {
  "kernelspec": {
   "display_name": "Python 3 (ipykernel)",
   "language": "python",
   "name": "python3"
  },
  "language_info": {
   "codemirror_mode": {
    "name": "ipython",
    "version": 3
   },
   "file_extension": ".py",
   "mimetype": "text/x-python",
   "name": "python",
   "nbconvert_exporter": "python",
   "pygments_lexer": "ipython3",
   "version": "3.8.12"
  },
  "toc": {
   "base_numbering": 1,
   "nav_menu": {},
   "number_sections": true,
   "sideBar": true,
   "skip_h1_title": false,
   "title_cell": "Table of Contents",
   "title_sidebar": "Contents",
   "toc_cell": false,
   "toc_position": {},
   "toc_section_display": true,
   "toc_window_display": false
  },
  "vscode": {
   "interpreter": {
    "hash": "d93beabf86ef1e3db0a2f0d6db7e83b54b589f6058b30ef5082f9201a15c03e0"
   }
  }
 },
 "nbformat": 4,
 "nbformat_minor": 2
}
